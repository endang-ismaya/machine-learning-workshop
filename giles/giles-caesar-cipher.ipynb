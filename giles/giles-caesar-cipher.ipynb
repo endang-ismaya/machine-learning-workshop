{
 "cells": [
  {
   "cell_type": "markdown",
   "id": "66212a48-13e3-473e-8c98-5915787ca478",
   "metadata": {},
   "source": [
    "# Caesar Cipher"
   ]
  },
  {
   "cell_type": "code",
   "execution_count": 9,
   "id": "072e9bf0-5c63-47e9-a3b0-abd6049e2a37",
   "metadata": {},
   "outputs": [],
   "source": [
    "alphabet = 'abcdefghijklmnopqrstuvwxyz'"
   ]
  },
  {
   "cell_type": "code",
   "execution_count": 10,
   "id": "e99b60f3-bbde-4d70-a54e-aa2982b7b412",
   "metadata": {},
   "outputs": [],
   "source": [
    "input_text = 'hello'"
   ]
  },
  {
   "cell_type": "markdown",
   "id": "e0dc29e8-48a3-4339-bef4-f171b780cec4",
   "metadata": {},
   "source": [
    "## Build a very simple version"
   ]
  },
  {
   "cell_type": "code",
   "execution_count": 11,
   "id": "efdec24e-6938-4f40-b039-8daee87b77dd",
   "metadata": {},
   "outputs": [
    {
     "name": "stdout",
     "output_type": "stream",
     "text": [
      "khoor\n"
     ]
    }
   ],
   "source": [
    "output = ''\n",
    "for char in input_text:\n",
    "    alpha_index = alphabet.find(char)\n",
    "    output = output + alphabet[alpha_index + 3]\n",
    "print(output)"
   ]
  },
  {
   "cell_type": "markdown",
   "id": "c8035be2-9567-47c3-bb6c-761f419a3277",
   "metadata": {},
   "source": [
    "## What if cipher index goes beyond end of alphabet?"
   ]
  },
  {
   "cell_type": "code",
   "execution_count": 6,
   "id": "07abea3d-ae66-434b-8b7b-f9e846f034b0",
   "metadata": {},
   "outputs": [
    {
     "name": "stdout",
     "output_type": "stream",
     "text": [
      "khoor\n"
     ]
    }
   ],
   "source": [
    "output = ''\n",
    "for char in input_text:\n",
    "    alpha_index = alphabet.find(char)\n",
    "    output = output + alphabet[alpha_index + 3]\n",
    "print(output)"
   ]
  },
  {
   "cell_type": "markdown",
   "id": "93448dc9-da49-49bd-9828-04bb0151af26",
   "metadata": {},
   "source": [
    "## Write a function to deal with shift"
   ]
  },
  {
   "cell_type": "code",
   "execution_count": 7,
   "id": "514de228-61ac-4409-9ca5-2fb235f87930",
   "metadata": {},
   "outputs": [],
   "source": [
    "def shift_amount(i):\n",
    "    \"\"\"Will determine the shift, taking into account the length of the alphabet. Takes integer\"\"\"\n",
    "    return i%26"
   ]
  },
  {
   "cell_type": "markdown",
   "id": "41a20f5d-3fbf-41aa-b2ed-3e5b0dab40ef",
   "metadata": {},
   "source": [
    "## Now test with shift > 26"
   ]
  },
  {
   "cell_type": "code",
   "execution_count": 8,
   "id": "57c95528-b41e-4ef9-abb2-ef198380e355",
   "metadata": {},
   "outputs": [
    {
     "name": "stdout",
     "output_type": "stream",
     "text": [
      "lipps\n"
     ]
    }
   ],
   "source": [
    "output_1 = ''\n",
    "for char in input_text:\n",
    "    alpha_index = alphabet.find(char)\n",
    "    output_1 = output_1 + alphabet[shift_amount(alpha_index+30)]\n",
    "print(output_1)"
   ]
  },
  {
   "cell_type": "markdown",
   "id": "772e1f62-6aab-4f56-bef9-00b7e4fd561b",
   "metadata": {},
   "source": [
    "## A complete function"
   ]
  },
  {
   "cell_type": "code",
   "execution_count": 15,
   "id": "e60b7566-756c-4ea1-8bfb-7e1d7e6d415d",
   "metadata": {},
   "outputs": [],
   "source": [
    "def encrypt(text, required_shift):\n",
    "    out_string = \"\"\n",
    "    text = text.lower()\n",
    "    for char in text:\n",
    "        if char not in alphabet:\n",
    "            out_string = out_string + char\n",
    "        else:\n",
    "            alpha_index = alphabet.find(char)\n",
    "            out_string = out_string + alphabet[shift_amount(alpha_index + required_shift)]\n",
    "    return out_string"
   ]
  },
  {
   "cell_type": "code",
   "execution_count": 16,
   "id": "ac201140-eaf8-4c55-9fe0-60e3755baa9f",
   "metadata": {},
   "outputs": [
    {
     "data": {
      "text/plain": [
       "'hqgdqj'"
      ]
     },
     "execution_count": 16,
     "metadata": {},
     "output_type": "execute_result"
    }
   ],
   "source": [
    "encrypt(\"endang\", 55)"
   ]
  },
  {
   "cell_type": "code",
   "execution_count": 17,
   "id": "f752b06e-bd9b-4af1-8abf-c312b2137a11",
   "metadata": {},
   "outputs": [
    {
     "data": {
      "text/plain": [
       "'endang'"
      ]
     },
     "execution_count": 17,
     "metadata": {},
     "output_type": "execute_result"
    }
   ],
   "source": [
    "encrypt('hqgdqj', -55)"
   ]
  },
  {
   "cell_type": "code",
   "execution_count": 18,
   "id": "f6fefdfb-dfcc-4d87-ae5b-ee85ea2db994",
   "metadata": {},
   "outputs": [],
   "source": [
    "question_text = \"the cat sat on the mat\""
   ]
  },
  {
   "cell_type": "code",
   "execution_count": 20,
   "id": "eedc7fcf-295d-468d-86e5-35c26c0b9c8a",
   "metadata": {},
   "outputs": [
    {
     "name": "stdout",
     "output_type": "stream",
     "text": [
      "esp nle dle zy esp xle\n"
     ]
    }
   ],
   "source": [
    "print(encrypt(question_text, 11))"
   ]
  },
  {
   "cell_type": "code",
   "execution_count": null,
   "id": "d70abefb-aa6b-4836-bf04-4541e104f489",
   "metadata": {},
   "outputs": [],
   "source": []
  }
 ],
 "metadata": {
  "kernelspec": {
   "display_name": "Python 3 (ipykernel)",
   "language": "python",
   "name": "python3"
  },
  "language_info": {
   "codemirror_mode": {
    "name": "ipython",
    "version": 3
   },
   "file_extension": ".py",
   "mimetype": "text/x-python",
   "name": "python",
   "nbconvert_exporter": "python",
   "pygments_lexer": "ipython3",
   "version": "3.11.2"
  }
 },
 "nbformat": 4,
 "nbformat_minor": 5
}
