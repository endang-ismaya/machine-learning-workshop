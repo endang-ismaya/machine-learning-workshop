{
 "cells": [
  {
   "cell_type": "markdown",
   "id": "c8aeaaaa-cb3d-4231-9622-2dc214aa2df5",
   "metadata": {},
   "source": [
    "# Two Sum Problem"
   ]
  },
  {
   "cell_type": "markdown",
   "id": "fcb4859b-84c3-4965-a59d-5aff62895ed0",
   "metadata": {},
   "source": [
    "**You have a list of integers, return the indices of the pair of integers that add up to a given target**"
   ]
  },
  {
   "cell_type": "markdown",
   "id": "9740a9d0-d6a7-4fdc-8c32-5ab3331bef70",
   "metadata": {},
   "source": [
    "**Each input has one solution**"
   ]
  },
  {
   "cell_type": "markdown",
   "id": "6a87907d-acd8-4355-84e0-4fb1dce974fd",
   "metadata": {},
   "source": [
    "**Example: [8, 6, 11, 3], target 9, return [1, 3]**"
   ]
  },
  {
   "cell_type": "code",
   "execution_count": 4,
   "id": "417a608b-7f9c-4e36-9f42-7f59b2625c3b",
   "metadata": {},
   "outputs": [],
   "source": [
    "def two_sum(nums, target):\n",
    "    d = {}\n",
    "\n",
    "    for i in range(len(nums)):\n",
    "        if target - nums[i] in d:\n",
    "            print(d)\n",
    "            return [d[target-nums[i]], i]\n",
    "\n",
    "        d[nums[i]] = i\n",
    "\n",
    "    return -1"
   ]
  },
  {
   "cell_type": "code",
   "execution_count": 5,
   "id": "b1b82d83-e44f-463f-a86e-aff8c029288c",
   "metadata": {},
   "outputs": [
    {
     "name": "stdout",
     "output_type": "stream",
     "text": [
      "{8: 0, 6: 1, 11: 2}\n",
      "[1, 3]\n"
     ]
    }
   ],
   "source": [
    "l1 = [8, 6, 11, 3]\n",
    "print(two_sum(l1, 9))"
   ]
  },
  {
   "cell_type": "code",
   "execution_count": null,
   "id": "34bcbb33-3634-4e06-9afa-0ccae68de68b",
   "metadata": {},
   "outputs": [],
   "source": []
  }
 ],
 "metadata": {
  "kernelspec": {
   "display_name": "Python 3 (ipykernel)",
   "language": "python",
   "name": "python3"
  },
  "language_info": {
   "codemirror_mode": {
    "name": "ipython",
    "version": 3
   },
   "file_extension": ".py",
   "mimetype": "text/x-python",
   "name": "python",
   "nbconvert_exporter": "python",
   "pygments_lexer": "ipython3",
   "version": "3.11.2"
  }
 },
 "nbformat": 4,
 "nbformat_minor": 5
}
