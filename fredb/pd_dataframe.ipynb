{
 "cells": [
  {
   "cell_type": "markdown",
   "id": "de627d69-cb7e-4005-8b66-a9787ad29100",
   "metadata": {},
   "source": [
    "# Pandas DataFrame"
   ]
  },
  {
   "cell_type": "markdown",
   "id": "286c5eb7-7a96-4a50-aefa-5a385b5228ae",
   "metadata": {},
   "source": [
    "-> Series : Analogous to 1-D NumPy Arrasy with an explicit index \\\n",
    "-> DataFrame: Analogous to a 2-D NumPy Array with an explicit index"
   ]
  },
  {
   "cell_type": "code",
   "execution_count": 1,
   "id": "318fd029-a3dc-4786-b768-216b757a610a",
   "metadata": {},
   "outputs": [],
   "source": [
    "import pandas as pd\n",
    "import numpy as np"
   ]
  },
  {
   "cell_type": "code",
   "execution_count": null,
   "id": "393779bb-9496-4a17-8049-9f1cf825fd01",
   "metadata": {},
   "outputs": [],
   "source": []
  }
 ],
 "metadata": {
  "kernelspec": {
   "display_name": "Python 3 (ipykernel)",
   "language": "python",
   "name": "python3"
  },
  "language_info": {
   "codemirror_mode": {
    "name": "ipython",
    "version": 3
   },
   "file_extension": ".py",
   "mimetype": "text/x-python",
   "name": "python",
   "nbconvert_exporter": "python",
   "pygments_lexer": "ipython3",
   "version": "3.11.2"
  }
 },
 "nbformat": 4,
 "nbformat_minor": 5
}
