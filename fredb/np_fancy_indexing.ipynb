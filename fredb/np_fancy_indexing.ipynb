{
 "cells": [
  {
   "cell_type": "markdown",
   "id": "cfef687b-96b2-43a3-9d2c-918b3e37e82d",
   "metadata": {},
   "source": [
    "# Fancy Indexing"
   ]
  },
  {
   "cell_type": "code",
   "execution_count": 1,
   "id": "ccdbd615-e6b0-40d0-83b6-0797aabd8c0f",
   "metadata": {},
   "outputs": [],
   "source": [
    "import numpy as np"
   ]
  },
  {
   "cell_type": "code",
   "execution_count": 2,
   "id": "ce8013ae-c666-48d5-961a-165372045f52",
   "metadata": {},
   "outputs": [
    {
     "data": {
      "text/plain": [
       "array([[ 1,  2,  3,  4,  5],\n",
       "       [ 6,  7,  8,  9, 10],\n",
       "       [11, 12, 13, 14, 15],\n",
       "       [16, 17, 18, 19, 20],\n",
       "       [21, 22, 23, 24, 25]])"
      ]
     },
     "execution_count": 2,
     "metadata": {},
     "output_type": "execute_result"
    }
   ],
   "source": [
    "npa = np.arange(1, 26).reshape(5, 5)\n",
    "npa"
   ]
  },
  {
   "cell_type": "code",
   "execution_count": 3,
   "id": "d46f7b8b-f6a8-403a-aa38-27d7ddc17da4",
   "metadata": {},
   "outputs": [
    {
     "data": {
      "text/plain": [
       "array([6, 7, 9])"
      ]
     },
     "execution_count": 3,
     "metadata": {},
     "output_type": "execute_result"
    }
   ],
   "source": [
    "npa[1, np.array([0, 1, 3])]"
   ]
  },
  {
   "cell_type": "code",
   "execution_count": 6,
   "id": "6321c96b-5d8a-4a26-a1c2-fa11aade39e3",
   "metadata": {},
   "outputs": [
    {
     "data": {
      "text/plain": [
       "array([ 2,  7, 17])"
      ]
     },
     "execution_count": 6,
     "metadata": {},
     "output_type": "execute_result"
    }
   ],
   "source": [
    "npa[np.array([0, 1, 3]), 1]"
   ]
  },
  {
   "cell_type": "code",
   "execution_count": 7,
   "id": "c043f254-8e3c-4d5b-94d3-420b602343ea",
   "metadata": {},
   "outputs": [
    {
     "data": {
      "text/plain": [
       "array([[ 6,  7,  9],\n",
       "       [11, 12, 14]])"
      ]
     },
     "execution_count": 7,
     "metadata": {},
     "output_type": "execute_result"
    }
   ],
   "source": [
    "npa[1:3, np.array([0, 1, 3])]"
   ]
  },
  {
   "cell_type": "code",
   "execution_count": 8,
   "id": "da3affa8-cd39-4ac8-9a94-cd6f2a502804",
   "metadata": {},
   "outputs": [
    {
     "data": {
      "text/plain": [
       "array([[ 1,  4],\n",
       "       [ 6,  9],\n",
       "       [11, 14],\n",
       "       [16, 19],\n",
       "       [21, 24]])"
      ]
     },
     "execution_count": 8,
     "metadata": {},
     "output_type": "execute_result"
    }
   ],
   "source": [
    "npa[:, np.array([0, 3])]"
   ]
  },
  {
   "cell_type": "code",
   "execution_count": null,
   "id": "09643592-a43a-4e8f-9bb4-8566517a3ee7",
   "metadata": {},
   "outputs": [],
   "source": []
  }
 ],
 "metadata": {
  "kernelspec": {
   "display_name": "Python 3 (ipykernel)",
   "language": "python",
   "name": "python3"
  },
  "language_info": {
   "codemirror_mode": {
    "name": "ipython",
    "version": 3
   },
   "file_extension": ".py",
   "mimetype": "text/x-python",
   "name": "python",
   "nbconvert_exporter": "python",
   "pygments_lexer": "ipython3",
   "version": "3.11.2"
  }
 },
 "nbformat": 4,
 "nbformat_minor": 5
}
