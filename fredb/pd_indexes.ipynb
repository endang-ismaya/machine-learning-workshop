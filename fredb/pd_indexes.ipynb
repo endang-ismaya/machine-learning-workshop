{
 "cells": [
  {
   "cell_type": "markdown",
   "id": "bdbd4e42-cbdc-4b75-877c-fb9987442a30",
   "metadata": {},
   "source": [
    "# Pandas Indexes"
   ]
  },
  {
   "cell_type": "code",
   "execution_count": 2,
   "id": "96a8aa21-6f21-4bb8-bec4-5b8e6678d01c",
   "metadata": {},
   "outputs": [],
   "source": [
    "import pandas as pd\n",
    "import numpy as np"
   ]
  },
  {
   "cell_type": "code",
   "execution_count": 3,
   "id": "fe49a510-4c57-4043-99ce-7b1b7ea4fbd6",
   "metadata": {},
   "outputs": [
    {
     "data": {
      "text/plain": [
       "Index([10, 20, 30], dtype='int64')"
      ]
     },
     "execution_count": 3,
     "metadata": {},
     "output_type": "execute_result"
    }
   ],
   "source": [
    "idx = pd.Index([10, 20, 30]) # key\n",
    "idx"
   ]
  },
  {
   "cell_type": "code",
   "execution_count": 4,
   "id": "6183700e-0b04-4734-94f4-362ff111e205",
   "metadata": {},
   "outputs": [
    {
     "data": {
      "text/plain": [
       "10"
      ]
     },
     "execution_count": 4,
     "metadata": {},
     "output_type": "execute_result"
    }
   ],
   "source": [
    "idx[0]"
   ]
  },
  {
   "cell_type": "code",
   "execution_count": 4,
   "id": "d6a94b31-833c-481e-a013-227b10959d33",
   "metadata": {},
   "outputs": [
    {
     "data": {
      "text/plain": [
       "Index([20, 30], dtype='int64')"
      ]
     },
     "execution_count": 4,
     "metadata": {},
     "output_type": "execute_result"
    }
   ],
   "source": [
    "idx[1:4]"
   ]
  },
  {
   "cell_type": "code",
   "execution_count": 5,
   "id": "d3e06b41-238e-4733-b81b-b5bb6e5a178c",
   "metadata": {},
   "outputs": [],
   "source": [
    "idx2 = pd.Index([\"London\", \"Paris\", \"New York\", \"Jakarta\", \"Tokyo\"])"
   ]
  },
  {
   "cell_type": "code",
   "execution_count": 6,
   "id": "25437434-a2dd-45d2-b801-c0601fab2a6a",
   "metadata": {},
   "outputs": [
    {
     "data": {
      "text/plain": [
       "Index(['London', 'Paris', 'New York', 'Jakarta', 'Tokyo'], dtype='object')"
      ]
     },
     "execution_count": 6,
     "metadata": {},
     "output_type": "execute_result"
    }
   ],
   "source": [
    "idx2"
   ]
  },
  {
   "cell_type": "code",
   "execution_count": 8,
   "id": "5a93b645-6e01-457e-bee8-6030734b71bf",
   "metadata": {},
   "outputs": [
    {
     "data": {
      "text/plain": [
       "Index(['London', 'Paris', 'New York', 'Jakarta'], dtype='object')"
      ]
     },
     "execution_count": 8,
     "metadata": {},
     "output_type": "execute_result"
    }
   ],
   "source": [
    "idx2[idx2 != \"Tokyo\"] # boolean masking"
   ]
  },
  {
   "cell_type": "markdown",
   "id": "74e1b2b2-74c2-4c6d-b610-154e75d43de6",
   "metadata": {},
   "source": [
    "## Index Intersection"
   ]
  },
  {
   "cell_type": "code",
   "execution_count": 18,
   "id": "075f116b-b10f-49a6-8a8c-184dd05c3805",
   "metadata": {},
   "outputs": [],
   "source": [
    "idx_1 = pd.Index(['a', 'b', 'c', 'd', 'e'])\n",
    "idx_2 = pd.Index(['c', 'd', 'e', 'f', 'g'])"
   ]
  },
  {
   "cell_type": "code",
   "execution_count": 19,
   "id": "ca9fcfda-f096-4c4a-babe-18834f294be8",
   "metadata": {},
   "outputs": [
    {
     "data": {
      "text/plain": [
       "Index(['a', 'b', 'c', 'd', 'e'], dtype='object')"
      ]
     },
     "execution_count": 19,
     "metadata": {},
     "output_type": "execute_result"
    }
   ],
   "source": [
    "idx_1"
   ]
  },
  {
   "cell_type": "code",
   "execution_count": 20,
   "id": "09d27819-6e47-4da4-a66e-75e9eaa9ae2d",
   "metadata": {},
   "outputs": [
    {
     "data": {
      "text/plain": [
       "Index(['c', 'd', 'e', 'f', 'g'], dtype='object')"
      ]
     },
     "execution_count": 20,
     "metadata": {},
     "output_type": "execute_result"
    }
   ],
   "source": [
    "idx_2"
   ]
  },
  {
   "cell_type": "code",
   "execution_count": 23,
   "id": "ffde5674-a056-4202-af01-0af92c5eec8c",
   "metadata": {},
   "outputs": [
    {
     "data": {
      "text/plain": [
       "Index(['c', 'd', 'e'], dtype='object')"
      ]
     },
     "execution_count": 23,
     "metadata": {},
     "output_type": "execute_result"
    }
   ],
   "source": [
    "idx_1.intersection(idx_2)"
   ]
  },
  {
   "cell_type": "code",
   "execution_count": 24,
   "id": "3fb1235c-d692-4081-995e-78e117f9bab0",
   "metadata": {},
   "outputs": [
    {
     "data": {
      "text/plain": [
       "Index(['a', 'b', 'c', 'd', 'e', 'f', 'g'], dtype='object')"
      ]
     },
     "execution_count": 24,
     "metadata": {},
     "output_type": "execute_result"
    }
   ],
   "source": [
    "idx_1.union(idx_2)"
   ]
  },
  {
   "cell_type": "code",
   "execution_count": 11,
   "id": "000e85bd-0966-4064-8f00-47fbd4b8e0a9",
   "metadata": {},
   "outputs": [
    {
     "data": {
      "text/plain": [
       "Index([0.1, 0.2, 1.0, 2.0, 3.0], dtype='float64')"
      ]
     },
     "execution_count": 11,
     "metadata": {},
     "output_type": "execute_result"
    }
   ],
   "source": [
    "idx_uni = pd.Index([1, 2, 3]).union(pd.Index([0.1, 0.2]))\n",
    "idx_uni"
   ]
  },
  {
   "cell_type": "code",
   "execution_count": 12,
   "id": "6d4cc5de-34f8-4d47-b26d-dea77580e66a",
   "metadata": {},
   "outputs": [
    {
     "data": {
      "text/plain": [
       "True"
      ]
     },
     "execution_count": 12,
     "metadata": {},
     "output_type": "execute_result"
    }
   ],
   "source": [
    "2.0 in idx_uni"
   ]
  },
  {
   "cell_type": "code",
   "execution_count": 13,
   "id": "1771c78b-027a-46d5-bf03-f227072349c3",
   "metadata": {},
   "outputs": [
    {
     "data": {
      "text/plain": [
       "True"
      ]
     },
     "execution_count": 13,
     "metadata": {},
     "output_type": "execute_result"
    }
   ],
   "source": [
    "3 in idx_uni"
   ]
  },
  {
   "cell_type": "code",
   "execution_count": 14,
   "id": "c3044449-44f4-48ec-baa6-4402f2eb236b",
   "metadata": {},
   "outputs": [
    {
     "data": {
      "text/plain": [
       "False"
      ]
     },
     "execution_count": 14,
     "metadata": {},
     "output_type": "execute_result"
    }
   ],
   "source": [
    "3.4 in idx_uni"
   ]
  },
  {
   "cell_type": "code",
   "execution_count": null,
   "id": "ecf9f04a-4500-45d0-963a-b22a724e9acc",
   "metadata": {},
   "outputs": [],
   "source": []
  }
 ],
 "metadata": {
  "kernelspec": {
   "display_name": "Python 3 (ipykernel)",
   "language": "python",
   "name": "python3"
  },
  "language_info": {
   "codemirror_mode": {
    "name": "ipython",
    "version": 3
   },
   "file_extension": ".py",
   "mimetype": "text/x-python",
   "name": "python",
   "nbconvert_exporter": "python",
   "pygments_lexer": "ipython3",
   "version": "3.11.2"
  }
 },
 "nbformat": 4,
 "nbformat_minor": 5
}
