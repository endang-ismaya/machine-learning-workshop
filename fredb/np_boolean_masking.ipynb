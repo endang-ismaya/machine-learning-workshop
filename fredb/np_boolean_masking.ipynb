{
 "cells": [
  {
   "cell_type": "markdown",
   "id": "98f2a3e0-ca78-42d0-b8c6-2ae740809374",
   "metadata": {},
   "source": [
    "# Boolean Masking"
   ]
  },
  {
   "cell_type": "code",
   "execution_count": 1,
   "id": "5f2c23b8-0d67-41f9-b200-f5f645318731",
   "metadata": {},
   "outputs": [],
   "source": [
    "import numpy as np"
   ]
  },
  {
   "cell_type": "code",
   "execution_count": 3,
   "id": "84094c4c-896a-4987-bf59-73f3ef64720f",
   "metadata": {},
   "outputs": [
    {
     "data": {
      "text/plain": [
       "array([-1,  1, -2,  2, -3,  3])"
      ]
     },
     "execution_count": 3,
     "metadata": {},
     "output_type": "execute_result"
    }
   ],
   "source": [
    "npa = np.array([-1, 1, -2, 2, -3, 3])\n",
    "npa"
   ]
  },
  {
   "cell_type": "code",
   "execution_count": 4,
   "id": "ffe443db-d13f-45e8-9e3b-5bc7b1080964",
   "metadata": {},
   "outputs": [
    {
     "data": {
      "text/plain": [
       "array([ True, False,  True, False,  True, False])"
      ]
     },
     "execution_count": 4,
     "metadata": {},
     "output_type": "execute_result"
    }
   ],
   "source": [
    "np.less(npa, 0)"
   ]
  },
  {
   "cell_type": "code",
   "execution_count": 5,
   "id": "216a9252-813f-4404-83dc-ddece5a8a27c",
   "metadata": {},
   "outputs": [
    {
     "data": {
      "text/plain": [
       "array([ True, False,  True, False,  True, False])"
      ]
     },
     "execution_count": 5,
     "metadata": {},
     "output_type": "execute_result"
    }
   ],
   "source": [
    "npa < 0"
   ]
  },
  {
   "cell_type": "code",
   "execution_count": 6,
   "id": "7ca5e1b9-fc71-4c7c-8d82-a9f6e03f6f92",
   "metadata": {},
   "outputs": [],
   "source": [
    "mask = npa > 0"
   ]
  },
  {
   "cell_type": "code",
   "execution_count": 7,
   "id": "4acce429-2c54-4d55-8d0f-fe315db318ef",
   "metadata": {},
   "outputs": [
    {
     "data": {
      "text/plain": [
       "array([False,  True, False,  True, False,  True])"
      ]
     },
     "execution_count": 7,
     "metadata": {},
     "output_type": "execute_result"
    }
   ],
   "source": [
    "mask"
   ]
  },
  {
   "cell_type": "code",
   "execution_count": 8,
   "id": "5964d72e-16e2-4d35-8525-c243e09f4f72",
   "metadata": {},
   "outputs": [
    {
     "data": {
      "text/plain": [
       "array([1, 2, 3])"
      ]
     },
     "execution_count": 8,
     "metadata": {},
     "output_type": "execute_result"
    }
   ],
   "source": [
    "npa[mask]"
   ]
  },
  {
   "cell_type": "code",
   "execution_count": 9,
   "id": "1138bd6d-9c84-4514-98e6-bdb748d581a1",
   "metadata": {},
   "outputs": [
    {
     "data": {
      "text/plain": [
       "array([-5, -4, -3, -2, -1,  0,  1,  2,  3,  4,  5])"
      ]
     },
     "execution_count": 9,
     "metadata": {},
     "output_type": "execute_result"
    }
   ],
   "source": [
    "npb = np.arange(-5, 6)\n",
    "npb"
   ]
  },
  {
   "cell_type": "code",
   "execution_count": 11,
   "id": "ed9eb761-8ab4-431b-94de-83db8c7f8167",
   "metadata": {},
   "outputs": [
    {
     "data": {
      "text/plain": [
       "array([False, False, False, False, False, False,  True,  True,  True,\n",
       "       False, False])"
      ]
     },
     "execution_count": 11,
     "metadata": {},
     "output_type": "execute_result"
    }
   ],
   "source": [
    "mask1 = (npb > 0) & (npb < 4)\n",
    "mask1"
   ]
  },
  {
   "cell_type": "code",
   "execution_count": 12,
   "id": "6d8d0280-5ae7-4027-8abd-b167c24ff93e",
   "metadata": {},
   "outputs": [
    {
     "data": {
      "text/plain": [
       "array([1, 2, 3])"
      ]
     },
     "execution_count": 12,
     "metadata": {},
     "output_type": "execute_result"
    }
   ],
   "source": [
    "npb[mask1]"
   ]
  },
  {
   "cell_type": "code",
   "execution_count": null,
   "id": "0c638328-4760-4c24-b513-8febebc93ba3",
   "metadata": {},
   "outputs": [],
   "source": []
  }
 ],
 "metadata": {
  "kernelspec": {
   "display_name": "Python 3 (ipykernel)",
   "language": "python",
   "name": "python3"
  },
  "language_info": {
   "codemirror_mode": {
    "name": "ipython",
    "version": 3
   },
   "file_extension": ".py",
   "mimetype": "text/x-python",
   "name": "python",
   "nbconvert_exporter": "python",
   "pygments_lexer": "ipython3",
   "version": "3.11.2"
  }
 },
 "nbformat": 4,
 "nbformat_minor": 5
}
