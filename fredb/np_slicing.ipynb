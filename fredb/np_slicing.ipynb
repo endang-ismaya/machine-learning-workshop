{
 "cells": [
  {
   "cell_type": "markdown",
   "id": "25eb1b03-0de3-440e-a492-28c3031f2dee",
   "metadata": {},
   "source": [
    "# Numpy Slicing"
   ]
  },
  {
   "cell_type": "code",
   "execution_count": 1,
   "id": "cee0dec1-0bc1-4fbe-b4ed-3e1ce5df225f",
   "metadata": {},
   "outputs": [],
   "source": [
    "import numpy as np"
   ]
  },
  {
   "cell_type": "code",
   "execution_count": 2,
   "id": "272462f9-f298-40c9-b2f7-8d353677959e",
   "metadata": {},
   "outputs": [
    {
     "data": {
      "text/plain": [
       "array([1, 2, 3, 4, 5, 6])"
      ]
     },
     "execution_count": 2,
     "metadata": {},
     "output_type": "execute_result"
    }
   ],
   "source": [
    "npa = np.array([1, 2, 3, 4, 5, 6])\n",
    "npa"
   ]
  },
  {
   "cell_type": "code",
   "execution_count": 3,
   "id": "a04bca3a-ccd9-46b0-819f-ebd3479fd6a7",
   "metadata": {},
   "outputs": [
    {
     "data": {
      "text/plain": [
       "array([1, 3, 5])"
      ]
     },
     "execution_count": 3,
     "metadata": {},
     "output_type": "execute_result"
    }
   ],
   "source": [
    "m1 = npa[0::2]\n",
    "m1"
   ]
  },
  {
   "cell_type": "code",
   "execution_count": 4,
   "id": "7530948c-f3df-49d8-bc08-939e52ab8472",
   "metadata": {},
   "outputs": [
    {
     "data": {
      "text/plain": [
       "array([1, 2, 3, 4, 5, 6])"
      ]
     },
     "execution_count": 4,
     "metadata": {},
     "output_type": "execute_result"
    }
   ],
   "source": [
    "npb = np.arange(1, 7)\n",
    "npb"
   ]
  },
  {
   "cell_type": "code",
   "execution_count": 5,
   "id": "cdaf1fdc-2bc5-40ad-8798-c764bccd1187",
   "metadata": {},
   "outputs": [
    {
     "data": {
      "text/plain": [
       "array([ 1,  2,  3,  4,  5, 60])"
      ]
     },
     "execution_count": 5,
     "metadata": {},
     "output_type": "execute_result"
    }
   ],
   "source": [
    "npb[-1] = 60\n",
    "npb"
   ]
  },
  {
   "cell_type": "markdown",
   "id": "16d238d4-bb02-40b4-8e0b-46a11e6345ff",
   "metadata": {},
   "source": [
    "## Dimensions Arrays"
   ]
  },
  {
   "cell_type": "code",
   "execution_count": 8,
   "id": "db5def2b-2e47-4d93-b1e3-d00067bf0b47",
   "metadata": {},
   "outputs": [
    {
     "data": {
      "text/plain": [
       "array([[ 1,  2,  3,  4,  5],\n",
       "       [ 6,  7,  8,  9, 10],\n",
       "       [11, 12, 13, 14, 15],\n",
       "       [16, 17, 18, 19, 20],\n",
       "       [21, 22, 23, 24, 25]])"
      ]
     },
     "execution_count": 8,
     "metadata": {},
     "output_type": "execute_result"
    }
   ],
   "source": [
    "npc = np.arange(1, 26).reshape(5, 5)\n",
    "npc"
   ]
  },
  {
   "cell_type": "code",
   "execution_count": 10,
   "id": "36362b27-2c57-4d4a-9c8c-2f41d2795ffe",
   "metadata": {},
   "outputs": [
    {
     "data": {
      "text/plain": [
       "array([[ 1,  2],\n",
       "       [ 6,  7],\n",
       "       [11, 12]])"
      ]
     },
     "execution_count": 10,
     "metadata": {},
     "output_type": "execute_result"
    }
   ],
   "source": [
    "npc[0:3, 0:2]"
   ]
  },
  {
   "cell_type": "code",
   "execution_count": 12,
   "id": "567f4861-76b6-438c-aad4-0a85d812f9c6",
   "metadata": {},
   "outputs": [
    {
     "data": {
      "text/plain": [
       "array([[ 1,  3,  5],\n",
       "       [16, 18, 20]])"
      ]
     },
     "execution_count": 12,
     "metadata": {},
     "output_type": "execute_result"
    }
   ],
   "source": [
    "npc[::3, ::2]"
   ]
  },
  {
   "cell_type": "code",
   "execution_count": 13,
   "id": "4428c632-9b56-4075-a178-2a6ddffc2955",
   "metadata": {},
   "outputs": [
    {
     "data": {
      "text/plain": [
       "array([12, 14])"
      ]
     },
     "execution_count": 13,
     "metadata": {},
     "output_type": "execute_result"
    }
   ],
   "source": [
    "npc[2, 1::2]"
   ]
  },
  {
   "cell_type": "code",
   "execution_count": null,
   "id": "d26b8e6c-79de-42dd-9bcc-aa64f06aacf0",
   "metadata": {},
   "outputs": [],
   "source": []
  }
 ],
 "metadata": {
  "kernelspec": {
   "display_name": "Python 3 (ipykernel)",
   "language": "python",
   "name": "python3"
  },
  "language_info": {
   "codemirror_mode": {
    "name": "ipython",
    "version": 3
   },
   "file_extension": ".py",
   "mimetype": "text/x-python",
   "name": "python",
   "nbconvert_exporter": "python",
   "pygments_lexer": "ipython3",
   "version": "3.11.2"
  }
 },
 "nbformat": 4,
 "nbformat_minor": 5
}
