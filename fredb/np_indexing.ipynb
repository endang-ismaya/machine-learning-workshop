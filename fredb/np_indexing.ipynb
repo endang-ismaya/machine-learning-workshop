{
 "cells": [
  {
   "cell_type": "markdown",
   "id": "358944dc-0c22-4b25-9ed3-ae958d2c03da",
   "metadata": {},
   "source": [
    "# Numpy Indexing"
   ]
  },
  {
   "cell_type": "code",
   "execution_count": 1,
   "id": "c2fcccff-a360-4617-a7a7-678234528363",
   "metadata": {},
   "outputs": [],
   "source": [
    "import numpy as np"
   ]
  },
  {
   "cell_type": "code",
   "execution_count": 2,
   "id": "1c7c0192-740e-44a2-8257-930b7dcd09d9",
   "metadata": {},
   "outputs": [
    {
     "data": {
      "text/plain": [
       "array([1, 2, 3, 4, 5])"
      ]
     },
     "execution_count": 2,
     "metadata": {},
     "output_type": "execute_result"
    }
   ],
   "source": [
    "npa = np.array([1, 2, 3, 4, 5])\n",
    "npa"
   ]
  },
  {
   "cell_type": "code",
   "execution_count": 3,
   "id": "5e5368f3-1b49-4bd5-a3ac-230f2419508b",
   "metadata": {},
   "outputs": [
    {
     "data": {
      "text/plain": [
       "array([  1,   2,   3, 500,   5])"
      ]
     },
     "execution_count": 3,
     "metadata": {},
     "output_type": "execute_result"
    }
   ],
   "source": [
    "npa[3] = 500\n",
    "npa"
   ]
  },
  {
   "cell_type": "markdown",
   "id": "9e10a00b-61e1-4679-92ad-3e207a15d58e",
   "metadata": {},
   "source": [
    "## 2 dimensions arrays"
   ]
  },
  {
   "cell_type": "code",
   "execution_count": 4,
   "id": "cc849cdc-2ef5-41bb-8f06-0aa3344ade0d",
   "metadata": {},
   "outputs": [
    {
     "data": {
      "text/plain": [
       "array([[1., 0., 0.],\n",
       "       [0., 1., 0.],\n",
       "       [0., 0., 1.]])"
      ]
     },
     "execution_count": 4,
     "metadata": {},
     "output_type": "execute_result"
    }
   ],
   "source": [
    "m1 = np.eye(3)\n",
    "m1"
   ]
  },
  {
   "cell_type": "code",
   "execution_count": 6,
   "id": "dd0b9289-8f20-4bd5-a0fc-d0980af9ef1b",
   "metadata": {},
   "outputs": [
    {
     "data": {
      "text/plain": [
       "array([[1. , 0. , 0. ],\n",
       "       [0. , 1. , 9.2],\n",
       "       [0. , 0. , 1. ]])"
      ]
     },
     "execution_count": 6,
     "metadata": {},
     "output_type": "execute_result"
    }
   ],
   "source": [
    "m1[1, 2] = 9.2\n",
    "m1"
   ]
  },
  {
   "cell_type": "code",
   "execution_count": 8,
   "id": "4154931b-71f7-4728-a796-74c27c2011d3",
   "metadata": {},
   "outputs": [
    {
     "data": {
      "text/plain": [
       "9.2"
      ]
     },
     "execution_count": 8,
     "metadata": {},
     "output_type": "execute_result"
    }
   ],
   "source": [
    "m1[1, 2]"
   ]
  },
  {
   "cell_type": "code",
   "execution_count": null,
   "id": "fefe27d1-d952-4854-bf79-a55931098c1e",
   "metadata": {},
   "outputs": [],
   "source": []
  }
 ],
 "metadata": {
  "kernelspec": {
   "display_name": "Python 3 (ipykernel)",
   "language": "python",
   "name": "python3"
  },
  "language_info": {
   "codemirror_mode": {
    "name": "ipython",
    "version": 3
   },
   "file_extension": ".py",
   "mimetype": "text/x-python",
   "name": "python",
   "nbconvert_exporter": "python",
   "pygments_lexer": "ipython3",
   "version": "3.11.2"
  }
 },
 "nbformat": 4,
 "nbformat_minor": 5
}
