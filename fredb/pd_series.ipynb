{
 "cells": [
  {
   "cell_type": "markdown",
   "id": "3c1d8c68-7a04-4cc3-ac45-bedcaffd2bd2",
   "metadata": {},
   "source": [
    "# Pandas Series"
   ]
  },
  {
   "cell_type": "code",
   "execution_count": 1,
   "id": "7666948d-af4e-436c-92fc-7d8547774758",
   "metadata": {},
   "outputs": [],
   "source": [
    "import pandas as pd\n",
    "import numpy as np"
   ]
  },
  {
   "cell_type": "code",
   "execution_count": 2,
   "id": "07550873-40f4-4e91-9414-fbdbb5e9c333",
   "metadata": {},
   "outputs": [
    {
     "data": {
      "text/plain": [
       "a    10\n",
       "b    20\n",
       "c    30\n",
       "dtype: int64"
      ]
     },
     "execution_count": 2,
     "metadata": {},
     "output_type": "execute_result"
    }
   ],
   "source": [
    "s = pd.Series([10, 20, 30], index=[\"a\", \"b\", \"c\"])\n",
    "s"
   ]
  },
  {
   "cell_type": "code",
   "execution_count": 3,
   "id": "aa4633c2-aa64-405b-9aad-db295e759289",
   "metadata": {},
   "outputs": [
    {
     "data": {
      "text/plain": [
       "10"
      ]
     },
     "execution_count": 3,
     "metadata": {},
     "output_type": "execute_result"
    }
   ],
   "source": [
    "s[\"a\"]"
   ]
  },
  {
   "cell_type": "markdown",
   "id": "9b18054e-d2c2-4376-acdb-b69f4f6c45b7",
   "metadata": {},
   "source": [
    "## Create series from dictionary"
   ]
  },
  {
   "cell_type": "code",
   "execution_count": 4,
   "id": "cf3df4d5-7638-43f7-ab79-7670747d5d47",
   "metadata": {},
   "outputs": [
    {
     "data": {
      "text/plain": [
       "USA       Washington D.C\n",
       "Canada            Ottawa\n",
       "UK                London\n",
       "France             Paris\n",
       "dtype: object"
      ]
     },
     "execution_count": 4,
     "metadata": {},
     "output_type": "execute_result"
    }
   ],
   "source": [
    "capitals = {\n",
    "    \"USA\": \"Washington D.C\",\n",
    "    \"Canada\": \"Ottawa\",\n",
    "    \"UK\": \"London\",\n",
    "    \"France\": \"Paris\"\n",
    "}\n",
    "\n",
    "s = pd.Series(capitals)\n",
    "s"
   ]
  },
  {
   "cell_type": "code",
   "execution_count": 5,
   "id": "df0aa9d5-f301-4742-b510-9ae8933bbe04",
   "metadata": {},
   "outputs": [
    {
     "data": {
      "text/plain": [
       "Index(['USA', 'Canada', 'UK', 'France'], dtype='object')"
      ]
     },
     "execution_count": 5,
     "metadata": {},
     "output_type": "execute_result"
    }
   ],
   "source": [
    "s.index"
   ]
  },
  {
   "cell_type": "code",
   "execution_count": 6,
   "id": "b0c119df-6b31-4d0a-ac82-3802cd2eed6c",
   "metadata": {},
   "outputs": [
    {
     "data": {
      "text/plain": [
       "array(['Washington D.C', 'Ottawa', 'London', 'Paris'], dtype=object)"
      ]
     },
     "execution_count": 6,
     "metadata": {},
     "output_type": "execute_result"
    }
   ],
   "source": [
    "s.values"
   ]
  },
  {
   "cell_type": "code",
   "execution_count": 7,
   "id": "9e4918eb-aa58-40a4-9d7c-e67db9a0a9b2",
   "metadata": {},
   "outputs": [
    {
     "data": {
      "text/plain": [
       "<zip at 0x1a2ec602a40>"
      ]
     },
     "execution_count": 7,
     "metadata": {},
     "output_type": "execute_result"
    }
   ],
   "source": [
    "s.items()"
   ]
  },
  {
   "cell_type": "code",
   "execution_count": 8,
   "id": "170416a0-3296-4fb5-952a-7f105cd862c7",
   "metadata": {},
   "outputs": [
    {
     "data": {
      "text/plain": [
       "[('USA', 'Washington D.C'),\n",
       " ('Canada', 'Ottawa'),\n",
       " ('UK', 'London'),\n",
       " ('France', 'Paris')]"
      ]
     },
     "execution_count": 8,
     "metadata": {},
     "output_type": "execute_result"
    }
   ],
   "source": [
    "list(s.items())"
   ]
  },
  {
   "cell_type": "markdown",
   "id": "2fc32623-d34a-4d91-80e8-aee0762c85d5",
   "metadata": {},
   "source": [
    "### Can have repeated index"
   ]
  },
  {
   "cell_type": "code",
   "execution_count": 9,
   "id": "300bc4d3-bfda-4b50-a3d3-fdc582a41030",
   "metadata": {},
   "outputs": [
    {
     "data": {
      "text/plain": [
       "country        USA\n",
       "city        Topeka\n",
       "country     France\n",
       "city          Lyon\n",
       "country         UK\n",
       "city       Glasgow\n",
       "dtype: object"
      ]
     },
     "execution_count": 9,
     "metadata": {},
     "output_type": "execute_result"
    }
   ],
   "source": [
    "areas = pd.Series(\n",
    "    [\"USA\", \"Topeka\", \"France\", \"Lyon\", \"UK\", \"Glasgow\"],\n",
    "    index=[\"country\", \"city\", \"country\", \"city\", \"country\", \"city\"]\n",
    ")\n",
    "areas"
   ]
  },
  {
   "cell_type": "code",
   "execution_count": 10,
   "id": "8cbb0056-32ee-44da-97da-0cc2549e8799",
   "metadata": {},
   "outputs": [
    {
     "data": {
      "text/plain": [
       "city     Topeka\n",
       "city       Lyon\n",
       "city    Glasgow\n",
       "dtype: object"
      ]
     },
     "execution_count": 10,
     "metadata": {},
     "output_type": "execute_result"
    }
   ],
   "source": [
    "areas[\"city\"]"
   ]
  },
  {
   "cell_type": "code",
   "execution_count": 12,
   "id": "47d3df01-48dd-430c-b5fc-1df5646b481b",
   "metadata": {},
   "outputs": [
    {
     "data": {
      "text/plain": [
       "'USA'"
      ]
     },
     "execution_count": 12,
     "metadata": {},
     "output_type": "execute_result"
    }
   ],
   "source": [
    "areas.iloc[0]"
   ]
  },
  {
   "cell_type": "code",
   "execution_count": 13,
   "id": "c9b75816-5e51-4b02-b3f0-6ee28f6c5d6c",
   "metadata": {},
   "outputs": [
    {
     "data": {
      "text/plain": [
       "'Lyon'"
      ]
     },
     "execution_count": 13,
     "metadata": {},
     "output_type": "execute_result"
    }
   ],
   "source": [
    "areas.iloc[3]"
   ]
  },
  {
   "cell_type": "code",
   "execution_count": 16,
   "id": "ff5e788d-4201-4a8e-831c-dd3ca127c7e0",
   "metadata": {},
   "outputs": [],
   "source": [
    "# updating value from Lyon to Paris\n",
    "areas.iloc[3] = \"Paris\""
   ]
  },
  {
   "cell_type": "code",
   "execution_count": 17,
   "id": "865c4479-2464-4df8-a9ac-3329007a77a2",
   "metadata": {},
   "outputs": [
    {
     "data": {
      "text/plain": [
       "country        USA\n",
       "city        Topeka\n",
       "country     France\n",
       "city         Paris\n",
       "country         UK\n",
       "city       Glasgow\n",
       "dtype: object"
      ]
     },
     "execution_count": 17,
     "metadata": {},
     "output_type": "execute_result"
    }
   ],
   "source": [
    "areas"
   ]
  },
  {
   "cell_type": "markdown",
   "id": "43a26f0a-0691-4712-b767-aa76be65fd62",
   "metadata": {},
   "source": [
    "### Slicing"
   ]
  },
  {
   "cell_type": "code",
   "execution_count": 18,
   "id": "296ee454-7501-4047-a892-ccf42c453535",
   "metadata": {},
   "outputs": [
    {
     "data": {
      "text/plain": [
       "a    10\n",
       "b    20\n",
       "c    30\n",
       "d    40\n",
       "e    50\n",
       "dtype: int64"
      ]
     },
     "execution_count": 18,
     "metadata": {},
     "output_type": "execute_result"
    }
   ],
   "source": [
    "s = pd.Series([10, 20, 30, 40, 50], index=list(\"abcde\"))\n",
    "s"
   ]
  },
  {
   "cell_type": "code",
   "execution_count": 20,
   "id": "04f0f163-1002-453d-8fd8-a8bad741e49f",
   "metadata": {},
   "outputs": [
    {
     "data": {
      "text/plain": [
       "a    10\n",
       "b    20\n",
       "c    30\n",
       "d    40\n",
       "dtype: int64"
      ]
     },
     "execution_count": 20,
     "metadata": {},
     "output_type": "execute_result"
    }
   ],
   "source": [
    "s[\"a\":\"d\"] # d is include"
   ]
  },
  {
   "cell_type": "code",
   "execution_count": 21,
   "id": "9a30e289-5248-48f3-b303-7eb948924ca2",
   "metadata": {},
   "outputs": [
    {
     "data": {
      "text/plain": [
       "a    10\n",
       "b    20\n",
       "c    30\n",
       "dtype: int64"
      ]
     },
     "execution_count": 21,
     "metadata": {},
     "output_type": "execute_result"
    }
   ],
   "source": [
    "s[0:3]"
   ]
  },
  {
   "cell_type": "code",
   "execution_count": 23,
   "id": "da28fdc4-345f-42ac-b25a-e8e575db5c8f",
   "metadata": {},
   "outputs": [
    {
     "data": {
      "text/plain": [
       "(10, 10)"
      ]
     },
     "execution_count": 23,
     "metadata": {},
     "output_type": "execute_result"
    }
   ],
   "source": [
    "s[\"a\"], s.iloc[0]"
   ]
  },
  {
   "cell_type": "code",
   "execution_count": 24,
   "id": "8913f900-c5f7-4cbb-9c39-4d9dadb14539",
   "metadata": {},
   "outputs": [
    {
     "data": {
      "text/plain": [
       "1    100\n",
       "2    200\n",
       "3    300\n",
       "4    400\n",
       "5    500\n",
       "dtype: int64"
      ]
     },
     "execution_count": 24,
     "metadata": {},
     "output_type": "execute_result"
    }
   ],
   "source": [
    "s = pd.Series([100, 200, 300, 400, 500], index=[1, 2, 3, 4, 5])\n",
    "s"
   ]
  },
  {
   "cell_type": "code",
   "execution_count": 25,
   "id": "055dc94d-5600-4231-ac44-dd40752d34e6",
   "metadata": {},
   "outputs": [
    {
     "data": {
      "text/plain": [
       "100"
      ]
     },
     "execution_count": 25,
     "metadata": {},
     "output_type": "execute_result"
    }
   ],
   "source": [
    "s[1]"
   ]
  },
  {
   "cell_type": "code",
   "execution_count": 26,
   "id": "8b9ed0ea-a514-49c2-bfd5-a6b97698785e",
   "metadata": {},
   "outputs": [
    {
     "data": {
      "text/plain": [
       "200"
      ]
     },
     "execution_count": 26,
     "metadata": {},
     "output_type": "execute_result"
    }
   ],
   "source": [
    "s.iloc[1]"
   ]
  },
  {
   "cell_type": "code",
   "execution_count": 27,
   "id": "bbd67b5f-e73e-4d4f-9e12-960277f9cc21",
   "metadata": {},
   "outputs": [
    {
     "data": {
      "text/plain": [
       "2    200\n",
       "3    300\n",
       "4    400\n",
       "5    500\n",
       "dtype: int64"
      ]
     },
     "execution_count": 27,
     "metadata": {},
     "output_type": "execute_result"
    }
   ],
   "source": [
    "s[1:]"
   ]
  },
  {
   "cell_type": "code",
   "execution_count": 29,
   "id": "c7b95811-331a-40c1-9491-672d4e3849f4",
   "metadata": {},
   "outputs": [
    {
     "data": {
      "text/plain": [
       "100"
      ]
     },
     "execution_count": 29,
     "metadata": {},
     "output_type": "execute_result"
    }
   ],
   "source": [
    "s.iloc[0]"
   ]
  },
  {
   "cell_type": "code",
   "execution_count": 30,
   "id": "87b8abd3-7533-4b90-a658-c82e23f54088",
   "metadata": {},
   "outputs": [
    {
     "data": {
      "text/plain": [
       "200"
      ]
     },
     "execution_count": 30,
     "metadata": {},
     "output_type": "execute_result"
    }
   ],
   "source": [
    "s.loc[2]"
   ]
  },
  {
   "cell_type": "code",
   "execution_count": 31,
   "id": "64b38741-9a2b-4888-9fd9-2fbf41e7f8f0",
   "metadata": {},
   "outputs": [
    {
     "data": {
      "text/plain": [
       "country        USA\n",
       "city        Topeka\n",
       "country     France\n",
       "city         Paris\n",
       "country         UK\n",
       "city       Glasgow\n",
       "dtype: object"
      ]
     },
     "execution_count": 31,
     "metadata": {},
     "output_type": "execute_result"
    }
   ],
   "source": [
    "areas"
   ]
  },
  {
   "cell_type": "code",
   "execution_count": 32,
   "id": "069e500c-b8f7-4afa-a308-b3293a93128d",
   "metadata": {},
   "outputs": [
    {
     "data": {
      "text/plain": [
       "country        USA\n",
       "city        Topeka\n",
       "country     France\n",
       "city         Paris\n",
       "city       Glasgow\n",
       "dtype: object"
      ]
     },
     "execution_count": 32,
     "metadata": {},
     "output_type": "execute_result"
    }
   ],
   "source": [
    "areas[areas != \"UK\"]"
   ]
  },
  {
   "cell_type": "code",
   "execution_count": 33,
   "id": "8365f799-7b89-4555-be0d-73c14c374a19",
   "metadata": {},
   "outputs": [
    {
     "data": {
      "text/plain": [
       "country        USA\n",
       "city        Topeka\n",
       "country     France\n",
       "city         Paris\n",
       "country         UK\n",
       "city       Glasgow\n",
       "dtype: object"
      ]
     },
     "execution_count": 33,
     "metadata": {},
     "output_type": "execute_result"
    }
   ],
   "source": [
    "areas[areas != \"city\"]"
   ]
  },
  {
   "cell_type": "code",
   "execution_count": null,
   "id": "c9bdff3e-d03f-44cf-bf59-d09766cf784b",
   "metadata": {},
   "outputs": [],
   "source": []
  }
 ],
 "metadata": {
  "kernelspec": {
   "display_name": "Python 3 (ipykernel)",
   "language": "python",
   "name": "python3"
  },
  "language_info": {
   "codemirror_mode": {
    "name": "ipython",
    "version": 3
   },
   "file_extension": ".py",
   "mimetype": "text/x-python",
   "name": "python",
   "nbconvert_exporter": "python",
   "pygments_lexer": "ipython3",
   "version": "3.11.2"
  }
 },
 "nbformat": 4,
 "nbformat_minor": 5
}
