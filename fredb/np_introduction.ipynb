{
 "cells": [
  {
   "cell_type": "markdown",
   "id": "b12a379e-88e7-4a93-9658-8fa67a67ee2d",
   "metadata": {},
   "source": [
    "ndarray\n",
    "- fixed size\n",
    "- can be reshaped\n",
    "- homogeneous\n",
    "- elements have specialized, restricted data types\n",
    "- indexing arr[i]\n",
    "- slicing arr[a:b:c]\n",
    "- masking arr[(arr > 2) & (arr < 10)]\n",
    "- fancy indexing arr[[0, 3, 4]]\n",
    "\n",
    "NumPy Efficiency\n",
    "- More space efficient than Python\n",
    "- Array manipulation and calculations are must faster (vectorization)\n",
    "- But at a cost\n",
    "  - fixed size  \n",
    "    -> once created, cannot add/remove elements  \n",
    "    -> elements can be replaces\n",
    "  - homogeneous  \n",
    "    -> all elements must be the same type  \n",
    "  - data types  \n",
    "    -> it uses data types from underlyig C language  \n",
    "    -> memory efficiency & vectorization  "
   ]
  },
  {
   "cell_type": "markdown",
   "id": "c3a96294-595a-4740-aef7-3df4414a2402",
   "metadata": {},
   "source": [
    "## Creating Array from Lists"
   ]
  },
  {
   "cell_type": "code",
   "execution_count": 1,
   "id": "b37d7ee6-7c7a-43cb-b31c-bbef8751c59c",
   "metadata": {},
   "outputs": [],
   "source": [
    "import numpy as np"
   ]
  },
  {
   "cell_type": "code",
   "execution_count": 14,
   "id": "71ce3de7-d456-477d-903f-c83f77df6a55",
   "metadata": {},
   "outputs": [],
   "source": [
    "a1 = np.array([1, 2, 3, 4])\n",
    "a2 = np.array((0.1, 0.2, 0.3, 0.4))\n",
    "a3 = np.array([1, 2, 3, 4], dtype=np.uint8)"
   ]
  },
  {
   "cell_type": "code",
   "execution_count": 15,
   "id": "c3f78ba8-7bab-4de3-b848-f31a39466dd7",
   "metadata": {},
   "outputs": [
    {
     "data": {
      "text/plain": [
       "array([1, 2, 3, 4])"
      ]
     },
     "execution_count": 15,
     "metadata": {},
     "output_type": "execute_result"
    }
   ],
   "source": [
    "a1"
   ]
  },
  {
   "cell_type": "code",
   "execution_count": 16,
   "id": "74b85e87-d7aa-4575-9479-001fdb0f6872",
   "metadata": {},
   "outputs": [
    {
     "data": {
      "text/plain": [
       "numpy.ndarray"
      ]
     },
     "execution_count": 16,
     "metadata": {},
     "output_type": "execute_result"
    }
   ],
   "source": [
    "type(a1)"
   ]
  },
  {
   "cell_type": "code",
   "execution_count": 17,
   "id": "c7c2f94c-0e12-4c19-ab11-cdc51a9ffa79",
   "metadata": {},
   "outputs": [
    {
     "data": {
      "text/plain": [
       "array([0.1, 0.2, 0.3, 0.4])"
      ]
     },
     "execution_count": 17,
     "metadata": {},
     "output_type": "execute_result"
    }
   ],
   "source": [
    "a2"
   ]
  },
  {
   "cell_type": "code",
   "execution_count": 18,
   "id": "16439466-e87c-432f-b574-ef03bf81d65d",
   "metadata": {},
   "outputs": [
    {
     "data": {
      "text/plain": [
       "numpy.ndarray"
      ]
     },
     "execution_count": 18,
     "metadata": {},
     "output_type": "execute_result"
    }
   ],
   "source": [
    "type(a2)"
   ]
  },
  {
   "cell_type": "code",
   "execution_count": 19,
   "id": "87e6bc0d-ad78-4778-8fba-02bcc71c487f",
   "metadata": {},
   "outputs": [
    {
     "data": {
      "text/plain": [
       "dtype('int32')"
      ]
     },
     "execution_count": 19,
     "metadata": {},
     "output_type": "execute_result"
    }
   ],
   "source": [
    "a1.dtype"
   ]
  },
  {
   "cell_type": "code",
   "execution_count": 20,
   "id": "4817b6e4-19dd-4f32-94bc-281a7a9d8d8b",
   "metadata": {},
   "outputs": [
    {
     "data": {
      "text/plain": [
       "dtype('float64')"
      ]
     },
     "execution_count": 20,
     "metadata": {},
     "output_type": "execute_result"
    }
   ],
   "source": [
    "a2.dtype"
   ]
  },
  {
   "cell_type": "code",
   "execution_count": 22,
   "id": "36ad25ac-d83e-49b0-9e21-ff227e7a01b9",
   "metadata": {},
   "outputs": [
    {
     "data": {
      "text/plain": [
       "array([1, 2, 3, 4], dtype=uint8)"
      ]
     },
     "execution_count": 22,
     "metadata": {},
     "output_type": "execute_result"
    }
   ],
   "source": [
    "a3"
   ]
  },
  {
   "cell_type": "code",
   "execution_count": 23,
   "id": "3b14f4ef-0bba-49c3-8f38-c41fb58417b8",
   "metadata": {},
   "outputs": [
    {
     "data": {
      "text/plain": [
       "dtype('uint8')"
      ]
     },
     "execution_count": 23,
     "metadata": {},
     "output_type": "execute_result"
    }
   ],
   "source": [
    "a3.dtype"
   ]
  },
  {
   "cell_type": "code",
   "execution_count": 24,
   "id": "c1e401b6-a4e4-4826-9963-e9501de89a63",
   "metadata": {},
   "outputs": [],
   "source": [
    "m2 = np.array(\n",
    "    [\n",
    "        [1, 2, 3],\n",
    "        [4, 5, 6],\n",
    "        [7, 8, 9],\n",
    "        [10, 11, 12]\n",
    "    ]\n",
    ")\n",
    "   "
   ]
  },
  {
   "cell_type": "code",
   "execution_count": 25,
   "id": "5caf6677-20d0-4b49-8e77-bff8e8d233cb",
   "metadata": {},
   "outputs": [
    {
     "data": {
      "text/plain": [
       "12"
      ]
     },
     "execution_count": 25,
     "metadata": {},
     "output_type": "execute_result"
    }
   ],
   "source": [
    "m2.size"
   ]
  },
  {
   "cell_type": "code",
   "execution_count": 26,
   "id": "ff3f5afd-053a-4744-9052-1d383a52458b",
   "metadata": {},
   "outputs": [
    {
     "data": {
      "text/plain": [
       "(4, 3)"
      ]
     },
     "execution_count": 26,
     "metadata": {},
     "output_type": "execute_result"
    }
   ],
   "source": [
    "m2.shape"
   ]
  },
  {
   "cell_type": "code",
   "execution_count": null,
   "id": "04037464-aba9-4ff0-80a9-8b5bb4fb7d9f",
   "metadata": {},
   "outputs": [],
   "source": []
  }
 ],
 "metadata": {
  "kernelspec": {
   "display_name": "Python 3 (ipykernel)",
   "language": "python",
   "name": "python3"
  },
  "language_info": {
   "codemirror_mode": {
    "name": "ipython",
    "version": 3
   },
   "file_extension": ".py",
   "mimetype": "text/x-python",
   "name": "python",
   "nbconvert_exporter": "python",
   "pygments_lexer": "ipython3",
   "version": "3.11.2"
  }
 },
 "nbformat": 4,
 "nbformat_minor": 5
}
