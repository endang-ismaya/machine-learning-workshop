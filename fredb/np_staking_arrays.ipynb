{
 "cells": [
  {
   "cell_type": "markdown",
   "id": "28341c18-33cf-48be-b237-719264a2a599",
   "metadata": {},
   "source": [
    "# Stacking Arrays"
   ]
  },
  {
   "cell_type": "code",
   "execution_count": 1,
   "id": "708a53ca-0e37-4504-8486-6a808badc71b",
   "metadata": {},
   "outputs": [],
   "source": [
    "import numpy as np"
   ]
  },
  {
   "cell_type": "code",
   "execution_count": 2,
   "id": "2e6c962b-56bc-4992-9b54-b2b9dc87919b",
   "metadata": {},
   "outputs": [
    {
     "data": {
      "text/plain": [
       "array([1, 2, 3, 4, 5])"
      ]
     },
     "execution_count": 2,
     "metadata": {},
     "output_type": "execute_result"
    }
   ],
   "source": [
    "a1 = np.arange(1, 6)\n",
    "a1"
   ]
  },
  {
   "cell_type": "code",
   "execution_count": 3,
   "id": "6316d9c3-c6c2-4bae-8b72-18770e95fc75",
   "metadata": {},
   "outputs": [
    {
     "data": {
      "text/plain": [
       "array([[ 1,  2,  3,  4,  5],\n",
       "       [ 6,  7,  8,  9, 10]])"
      ]
     },
     "execution_count": 3,
     "metadata": {},
     "output_type": "execute_result"
    }
   ],
   "source": [
    "a2 = np.arange(1, 11).reshape(2, 5)\n",
    "a2"
   ]
  },
  {
   "cell_type": "code",
   "execution_count": 4,
   "id": "4e60ed33-68e1-491a-b061-7f6533b9ed8d",
   "metadata": {},
   "outputs": [
    {
     "data": {
      "text/plain": [
       "array([[ 1,  2,  3,  4,  5],\n",
       "       [ 1,  2,  3,  4,  5],\n",
       "       [ 6,  7,  8,  9, 10]])"
      ]
     },
     "execution_count": 4,
     "metadata": {},
     "output_type": "execute_result"
    }
   ],
   "source": [
    "vstack1 = np.vstack((a1, a2))\n",
    "vstack1"
   ]
  },
  {
   "cell_type": "markdown",
   "id": "5801e63b-dba1-4853-85cf-2202435d81cc",
   "metadata": {},
   "source": [
    "## Stacking with different type"
   ]
  },
  {
   "cell_type": "code",
   "execution_count": 5,
   "id": "3afd5112-9090-43e4-b847-7c26e55eddb6",
   "metadata": {},
   "outputs": [
    {
     "data": {
      "text/plain": [
       "array([[1. , 2. , 3. , 4. ],\n",
       "       [0.1, 0.2, 0.3, 0.4]])"
      ]
     },
     "execution_count": 5,
     "metadata": {},
     "output_type": "execute_result"
    }
   ],
   "source": [
    "np1 = np.array((1, 2, 3, 4))\n",
    "np2 = np.array([0.1, 0.2, 0.3, 0.4])\n",
    "result = np.vstack((np1, np2))\n",
    "result"
   ]
  },
  {
   "cell_type": "code",
   "execution_count": 6,
   "id": "54a1fb4f-7009-4bbc-b561-a042cf77a300",
   "metadata": {},
   "outputs": [
    {
     "data": {
      "text/plain": [
       "dtype('float64')"
      ]
     },
     "execution_count": 6,
     "metadata": {},
     "output_type": "execute_result"
    }
   ],
   "source": [
    "result.dtype"
   ]
  },
  {
   "cell_type": "code",
   "execution_count": null,
   "id": "05d7851a-b6ef-42c1-8be8-9c83d946cc53",
   "metadata": {},
   "outputs": [],
   "source": []
  }
 ],
 "metadata": {
  "kernelspec": {
   "display_name": "Python 3 (ipykernel)",
   "language": "python",
   "name": "python3"
  },
  "language_info": {
   "codemirror_mode": {
    "name": "ipython",
    "version": 3
   },
   "file_extension": ".py",
   "mimetype": "text/x-python",
   "name": "python",
   "nbconvert_exporter": "python",
   "pygments_lexer": "ipython3",
   "version": "3.11.2"
  }
 },
 "nbformat": 4,
 "nbformat_minor": 5
}
