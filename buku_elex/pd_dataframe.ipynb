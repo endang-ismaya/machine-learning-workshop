{
 "cells": [
  {
   "cell_type": "markdown",
   "id": "010ba158-72a3-4169-9ff1-b2a9dd2f56ca",
   "metadata": {},
   "source": [
    "# Belajar Pandas DataFrame"
   ]
  },
  {
   "cell_type": "markdown",
   "id": "48f8fb01-0b35-4b3f-8e7e-44cab755ced4",
   "metadata": {},
   "source": [
    "## Membuat manual DataFrame"
   ]
  },
  {
   "cell_type": "code",
   "execution_count": 2,
   "id": "8070153a-b4d4-4e80-b842-46b1979e45a1",
   "metadata": {},
   "outputs": [],
   "source": [
    "import pandas as pd"
   ]
  },
  {
   "cell_type": "code",
   "execution_count": 3,
   "id": "7009337e-3ad7-4ad0-b6bd-fc2cd93d6cc6",
   "metadata": {},
   "outputs": [],
   "source": [
    "nama = [\"Endang\", \"Indah\", \"Alde\", \"Aqeela\", \"Auza\", \"Arsyila\", \"Akhdan\"]\n",
    "usia = [39, 38, 14, 12, 7, 5, 1]\n",
    "suka_es_krim = [False, True, False, True, True, True, False]"
   ]
  },
  {
   "cell_type": "code",
   "execution_count": 4,
   "id": "333954fd-abe3-476b-b76a-62555dfae6a0",
   "metadata": {},
   "outputs": [
    {
     "data": {
      "text/html": [
       "<div>\n",
       "<style scoped>\n",
       "    .dataframe tbody tr th:only-of-type {\n",
       "        vertical-align: middle;\n",
       "    }\n",
       "\n",
       "    .dataframe tbody tr th {\n",
       "        vertical-align: top;\n",
       "    }\n",
       "\n",
       "    .dataframe thead th {\n",
       "        text-align: right;\n",
       "    }\n",
       "</style>\n",
       "<table border=\"1\" class=\"dataframe\">\n",
       "  <thead>\n",
       "    <tr style=\"text-align: right;\">\n",
       "      <th></th>\n",
       "      <th>nama</th>\n",
       "      <th>usia</th>\n",
       "      <th>suka_es_krim</th>\n",
       "    </tr>\n",
       "  </thead>\n",
       "  <tbody>\n",
       "    <tr>\n",
       "      <th>0</th>\n",
       "      <td>Endang</td>\n",
       "      <td>39</td>\n",
       "      <td>False</td>\n",
       "    </tr>\n",
       "    <tr>\n",
       "      <th>1</th>\n",
       "      <td>Indah</td>\n",
       "      <td>38</td>\n",
       "      <td>True</td>\n",
       "    </tr>\n",
       "    <tr>\n",
       "      <th>2</th>\n",
       "      <td>Alde</td>\n",
       "      <td>14</td>\n",
       "      <td>False</td>\n",
       "    </tr>\n",
       "    <tr>\n",
       "      <th>3</th>\n",
       "      <td>Aqeela</td>\n",
       "      <td>12</td>\n",
       "      <td>True</td>\n",
       "    </tr>\n",
       "    <tr>\n",
       "      <th>4</th>\n",
       "      <td>Auza</td>\n",
       "      <td>7</td>\n",
       "      <td>True</td>\n",
       "    </tr>\n",
       "    <tr>\n",
       "      <th>5</th>\n",
       "      <td>Arsyila</td>\n",
       "      <td>5</td>\n",
       "      <td>True</td>\n",
       "    </tr>\n",
       "    <tr>\n",
       "      <th>6</th>\n",
       "      <td>Akhdan</td>\n",
       "      <td>1</td>\n",
       "      <td>False</td>\n",
       "    </tr>\n",
       "  </tbody>\n",
       "</table>\n",
       "</div>"
      ],
      "text/plain": [
       "      nama  usia  suka_es_krim\n",
       "0   Endang    39         False\n",
       "1    Indah    38          True\n",
       "2     Alde    14         False\n",
       "3   Aqeela    12          True\n",
       "4     Auza     7          True\n",
       "5  Arsyila     5          True\n",
       "6   Akhdan     1         False"
      ]
     },
     "execution_count": 4,
     "metadata": {},
     "output_type": "execute_result"
    }
   ],
   "source": [
    "dt_family = pd.DataFrame({\"nama\": nama, \"usia\": usia, \"suka_es_krim\": suka_es_krim})\n",
    "dt_family"
   ]
  },
  {
   "cell_type": "code",
   "execution_count": 5,
   "id": "6b9c3f7c-79ac-4ddb-a068-ef1402139f7c",
   "metadata": {},
   "outputs": [
    {
     "data": {
      "text/plain": [
       "[RangeIndex(start=0, stop=7, step=1),\n",
       " Index(['nama', 'usia', 'suka_es_krim'], dtype='object')]"
      ]
     },
     "execution_count": 5,
     "metadata": {},
     "output_type": "execute_result"
    }
   ],
   "source": [
    "dt_family.axes"
   ]
  },
  {
   "cell_type": "code",
   "execution_count": 6,
   "id": "67ff3eb6-0929-4489-9790-fe7adaa6841a",
   "metadata": {},
   "outputs": [
    {
     "data": {
      "text/plain": [
       "RangeIndex(start=0, stop=7, step=1)"
      ]
     },
     "execution_count": 6,
     "metadata": {},
     "output_type": "execute_result"
    }
   ],
   "source": [
    "dt_family.axes[0]"
   ]
  },
  {
   "cell_type": "code",
   "execution_count": 7,
   "id": "24e104d1-3a5d-47e2-b4f1-f7ba24738f66",
   "metadata": {},
   "outputs": [
    {
     "data": {
      "text/plain": [
       "Index(['nama', 'usia', 'suka_es_krim'], dtype='object')"
      ]
     },
     "execution_count": 7,
     "metadata": {},
     "output_type": "execute_result"
    }
   ],
   "source": [
    "dt_family.axes[1]"
   ]
  },
  {
   "cell_type": "code",
   "execution_count": 8,
   "id": "560eee1e-d785-4bb0-9294-0dc48993f5ab",
   "metadata": {},
   "outputs": [
    {
     "data": {
      "text/plain": [
       "'suka_es_krim'"
      ]
     },
     "execution_count": 8,
     "metadata": {},
     "output_type": "execute_result"
    }
   ],
   "source": [
    "dt_family.axes[1][2]"
   ]
  },
  {
   "cell_type": "code",
   "execution_count": 9,
   "id": "f8ca6960-cd79-43f7-a95e-2040c2faa6b2",
   "metadata": {},
   "outputs": [
    {
     "data": {
      "text/plain": [
       "2"
      ]
     },
     "execution_count": 9,
     "metadata": {},
     "output_type": "execute_result"
    }
   ],
   "source": [
    "dt_family.axes[0][2]"
   ]
  },
  {
   "cell_type": "code",
   "execution_count": 11,
   "id": "6b8b0066-fa3a-4f0f-bcaf-4ad561e7ca40",
   "metadata": {},
   "outputs": [
    {
     "data": {
      "text/plain": [
       "2"
      ]
     },
     "execution_count": 11,
     "metadata": {},
     "output_type": "execute_result"
    }
   ],
   "source": [
    "dt_family.axes[0][2]"
   ]
  },
  {
   "cell_type": "code",
   "execution_count": 12,
   "id": "d682f050-86fc-4ed1-a024-8e11b75fc22e",
   "metadata": {},
   "outputs": [
    {
     "data": {
      "text/plain": [
       "'usia'"
      ]
     },
     "execution_count": 12,
     "metadata": {},
     "output_type": "execute_result"
    }
   ],
   "source": [
    "dt_family.columns[1]"
   ]
  },
  {
   "cell_type": "code",
   "execution_count": 13,
   "id": "ebc79fd7-9a05-4b3b-9167-65ab1f7775ed",
   "metadata": {},
   "outputs": [
    {
     "data": {
      "text/plain": [
       "nama             Alde\n",
       "usia               14\n",
       "suka_es_krim    False\n",
       "Name: 2, dtype: object"
      ]
     },
     "execution_count": 13,
     "metadata": {},
     "output_type": "execute_result"
    }
   ],
   "source": [
    "dt_family.loc[2]"
   ]
  },
  {
   "cell_type": "code",
   "execution_count": 15,
   "id": "f3c5a87b-5873-4a42-b0ff-fe6a58dcea38",
   "metadata": {},
   "outputs": [
    {
     "data": {
      "text/html": [
       "<div>\n",
       "<style scoped>\n",
       "    .dataframe tbody tr th:only-of-type {\n",
       "        vertical-align: middle;\n",
       "    }\n",
       "\n",
       "    .dataframe tbody tr th {\n",
       "        vertical-align: top;\n",
       "    }\n",
       "\n",
       "    .dataframe thead th {\n",
       "        text-align: right;\n",
       "    }\n",
       "</style>\n",
       "<table border=\"1\" class=\"dataframe\">\n",
       "  <thead>\n",
       "    <tr style=\"text-align: right;\">\n",
       "      <th></th>\n",
       "      <th>nama</th>\n",
       "      <th>usia</th>\n",
       "    </tr>\n",
       "  </thead>\n",
       "  <tbody>\n",
       "    <tr>\n",
       "      <th>2</th>\n",
       "      <td>Alde</td>\n",
       "      <td>14</td>\n",
       "    </tr>\n",
       "    <tr>\n",
       "      <th>3</th>\n",
       "      <td>Aqeela</td>\n",
       "      <td>12</td>\n",
       "    </tr>\n",
       "  </tbody>\n",
       "</table>\n",
       "</div>"
      ],
      "text/plain": [
       "     nama  usia\n",
       "2    Alde    14\n",
       "3  Aqeela    12"
      ]
     },
     "execution_count": 15,
     "metadata": {},
     "output_type": "execute_result"
    }
   ],
   "source": [
    "dt_family.loc[(2, 3), (\"nama\", \"usia\" )]"
   ]
  },
  {
   "cell_type": "code",
   "execution_count": null,
   "id": "8e896c42-9332-4393-bb35-ff8ee4469f7f",
   "metadata": {},
   "outputs": [],
   "source": []
  }
 ],
 "metadata": {
  "kernelspec": {
   "display_name": "Python 3 (ipykernel)",
   "language": "python",
   "name": "python3"
  },
  "language_info": {
   "codemirror_mode": {
    "name": "ipython",
    "version": 3
   },
   "file_extension": ".py",
   "mimetype": "text/x-python",
   "name": "python",
   "nbconvert_exporter": "python",
   "pygments_lexer": "ipython3",
   "version": "3.11.2"
  }
 },
 "nbformat": 4,
 "nbformat_minor": 5
}
