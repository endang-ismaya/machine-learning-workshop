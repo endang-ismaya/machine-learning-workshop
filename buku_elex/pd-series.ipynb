{
 "cells": [
  {
   "cell_type": "markdown",
   "id": "161f1d61-e948-4d5d-9a1a-e0149127ebdf",
   "metadata": {},
   "source": [
    "# Pandas Series read CSV File"
   ]
  },
  {
   "cell_type": "code",
   "execution_count": 20,
   "id": "133fe6a5-f163-47ca-a171-4fad3e992259",
   "metadata": {},
   "outputs": [],
   "source": [
    "import pandas as pd"
   ]
  },
  {
   "cell_type": "code",
   "execution_count": null,
   "id": "616b9541-b2e3-4e5e-a14b-aa4c128cf19f",
   "metadata": {},
   "outputs": [],
   "source": [
    "# nilai_siswa = pd.read_csv(\"datamurid.csv\")\n",
    "# type(nilai_siswa) # pandas.core.frame.DataFrame"
   ]
  },
  {
   "cell_type": "code",
   "execution_count": 21,
   "id": "4a998264-aa82-4b4f-b14e-9f913f9efe5d",
   "metadata": {},
   "outputs": [],
   "source": [
    "csvpath = \"datamurid.csv\""
   ]
  },
  {
   "cell_type": "markdown",
   "id": "0756a0e9-3f1c-4f25-a088-44db3777abcf",
   "metadata": {},
   "source": [
    "## Usecols"
   ]
  },
  {
   "cell_type": "code",
   "execution_count": 22,
   "id": "89981832-78b5-454b-9cf4-f8bd5b02b1f9",
   "metadata": {},
   "outputs": [],
   "source": [
    "# df = pd.read_csv(\"datamurid.csv\", usecols=[\"Nama\"])\n",
    "# nama_series = df.squeeze() # convert DataFrame to Series\n",
    "# nama_series\n",
    "# type(nama_series) # pandas.core.series.Series"
   ]
  },
  {
   "cell_type": "markdown",
   "id": "c426c53c-2163-46cc-908d-f3518f037d16",
   "metadata": {},
   "source": [
    "## Mengambil data 'Nama' dan 'IPA' untuk dijadikan series"
   ]
  },
  {
   "cell_type": "code",
   "execution_count": 23,
   "id": "95c1f46c-bb75-44da-a1ec-bb27363d10e0",
   "metadata": {},
   "outputs": [
    {
     "data": {
      "text/plain": [
       "Nama\n",
       "Bejo Samusir        80\n",
       "Edi Noor            65\n",
       "Samsudin Ceria      85\n",
       "Endang Kumpeni      60\n",
       "Joni Gudel          50\n",
       "Donal Ceriwis       60\n",
       "Soni Samson         70\n",
       "Joko Ngendo         50\n",
       "Petrus Kanisius     90\n",
       "Jupri Pingsut      100\n",
       "Roki Gembul         59\n",
       "Ahonk Gituloh       60\n",
       "Tanuar Mareti       70\n",
       "Saksi Bissou        80\n",
       "Raffi Benernih      80\n",
       "Hotma Dotcom        90\n",
       "Name: IPA, dtype: int64"
      ]
     },
     "execution_count": 23,
     "metadata": {},
     "output_type": "execute_result"
    }
   ],
   "source": [
    "df = pd.read_csv(csvpath, sep=\",\", usecols=[\"Nama\", \"IPA\"], index_col=\"Nama\")\n",
    "series_nama_ipa = df.squeeze()\n",
    "series_nama_ipa"
   ]
  },
  {
   "cell_type": "code",
   "execution_count": 31,
   "id": "135410e0-7891-4f8c-8a9e-953489c1a8b0",
   "metadata": {},
   "outputs": [
    {
     "data": {
      "text/plain": [
       "array([ 80,  65,  85,  60,  50,  60,  70,  50,  90, 100,  59,  60,  70,\n",
       "        80,  80,  90], dtype=int64)"
      ]
     },
     "execution_count": 31,
     "metadata": {},
     "output_type": "execute_result"
    }
   ],
   "source": [
    "series_nama_ipa.values # menampilkan values dari series saja"
   ]
  },
  {
   "cell_type": "code",
   "execution_count": 32,
   "id": "1ff53476-247a-4137-adcd-446bf34bca35",
   "metadata": {},
   "outputs": [
    {
     "data": {
      "text/plain": [
       "Index(['Bejo Samusir', 'Edi Noor', 'Samsudin Ceria', 'Endang Kumpeni',\n",
       "       'Joni Gudel', 'Donal Ceriwis', 'Soni Samson', 'Joko Ngendo',\n",
       "       'Petrus Kanisius', 'Jupri Pingsut', 'Roki Gembul', 'Ahonk Gituloh',\n",
       "       'Tanuar Mareti', 'Saksi Bissou', 'Raffi Benernih', 'Hotma Dotcom'],\n",
       "      dtype='object', name='Nama')"
      ]
     },
     "execution_count": 32,
     "metadata": {},
     "output_type": "execute_result"
    }
   ],
   "source": [
    "series_nama_ipa.index # menampilkan index saja"
   ]
  },
  {
   "cell_type": "code",
   "execution_count": 33,
   "id": "84233b8b-b608-4307-9705-f2b979f1b2e6",
   "metadata": {},
   "outputs": [
    {
     "data": {
      "text/plain": [
       "True"
      ]
     },
     "execution_count": 33,
     "metadata": {},
     "output_type": "execute_result"
    }
   ],
   "source": [
    "series_nama_ipa.values.size == series_nama_ipa.index.size # membandingkan jumlah size dari index/key dan values"
   ]
  },
  {
   "cell_type": "code",
   "execution_count": 35,
   "id": "7f7e44df-7ece-4e33-a2a8-686915e66b7d",
   "metadata": {},
   "outputs": [
    {
     "data": {
      "text/plain": [
       "(16,)"
      ]
     },
     "execution_count": 35,
     "metadata": {},
     "output_type": "execute_result"
    }
   ],
   "source": [
    "series_nama_ipa.shape # menampilkan bentuk atau dimensi dari series"
   ]
  },
  {
   "cell_type": "code",
   "execution_count": 36,
   "id": "a7532e8c-41bb-4e4f-8751-2b983e287cc5",
   "metadata": {},
   "outputs": [
    {
     "data": {
      "text/plain": [
       "True"
      ]
     },
     "execution_count": 36,
     "metadata": {},
     "output_type": "execute_result"
    }
   ],
   "source": [
    "series_nama_ipa.index.is_unique # mengecek apakan index/key dari series unique"
   ]
  },
  {
   "cell_type": "code",
   "execution_count": 38,
   "id": "a70c8f24-bd83-4ef5-b136-b27911bb2a2b",
   "metadata": {},
   "outputs": [
    {
     "data": {
      "text/plain": [
       "False"
      ]
     },
     "execution_count": 38,
     "metadata": {},
     "output_type": "execute_result"
    }
   ],
   "source": [
    "series_nama_ipa.hasnans # Mengecek apakah values memiliki nilai None apa tidak"
   ]
  },
  {
   "cell_type": "code",
   "execution_count": null,
   "id": "5aaa7a6b-11e1-464a-9fa8-40b6ae443eae",
   "metadata": {},
   "outputs": [],
   "source": []
  }
 ],
 "metadata": {
  "kernelspec": {
   "display_name": "Python 3 (ipykernel)",
   "language": "python",
   "name": "python3"
  },
  "language_info": {
   "codemirror_mode": {
    "name": "ipython",
    "version": 3
   },
   "file_extension": ".py",
   "mimetype": "text/x-python",
   "name": "python",
   "nbconvert_exporter": "python",
   "pygments_lexer": "ipython3",
   "version": "3.11.2"
  }
 },
 "nbformat": 4,
 "nbformat_minor": 5
}
